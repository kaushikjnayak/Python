{
 "cells": [
  {
   "cell_type": "code",
   "execution_count": 3,
   "metadata": {
    "collapsed": true
   },
   "outputs": [
    {
     "name": "stdout",
     "output_type": "stream",
     "text": [
      "Help on float object:\n\nclass float(object)\n |  float(x) -> floating point number\n |  \n |  Convert a string or number to a floating point number, if possible.\n |  \n |  Methods defined here:\n |  \n |  __abs__(self, /)\n |      abs(self)\n |  \n |  __add__(self, value, /)\n |      Return self+value.\n |  \n |  __bool__(self, /)\n |      self != 0\n |  \n |  __divmod__(self, value, /)\n |      Return divmod(self, value).\n |  \n |  __eq__(self, value, /)\n |      Return self==value.\n |  \n |  __float__(self, /)\n |      float(self)\n |  \n |  __floordiv__(self, value, /)\n |      Return self//value.\n |  \n |  __format__(...)\n |      float.__format__(format_spec) -> string\n |      \n |      Formats the float according to format_spec.\n |  \n |  __ge__(...)\n |      __ge__=($self, value, /)\n |      --\n |      \n |      Return self>=value.\n |  \n |  __getattribute__(self, name, /)\n |      Return getattr(self, name).\n |  \n |  __getformat__(...) from builtins.type\n |      float.__getformat__(typestr) -> string\n |      \n |      You probably don't want to use this function.  It exists mainly to be\n |      used in Python's test suite.\n |      \n |      typestr must be 'double' or 'float'.  This function returns whichever of\n |      'unknown', 'IEEE, big-endian' or 'IEEE, little-endian' best describes the\n |      format of floating point numbers used by the C type named by typestr.\n |  \n |  __getnewargs__(...)\n |  \n |  __gt__(self, value, /)\n |      Return self>value.\n |  \n |  __hash__(self, /)\n |      Return hash(self).\n |  \n |  __int__(self, /)\n |      int(self)\n |  \n |  __le__(self, value, /)\n |      Return self<=value.\n |  \n |  __lt__(self, value, /)\n |      Return self<value.\n |  \n |  __mod__(self, value, /)\n |      Return self%value.\n |  \n |  __mul__(self, value, /)\n |      Return self*value.\n |  \n |  __ne__(self, value, /)\n |      Return self!=value.\n |  \n |  __neg__(self, /)\n |      -self\n |  \n |  __new__(*args, **kwargs) from builtins.type\n |      Create and return a new object.  See help(type) for accurate signature.\n |  \n |  __pos__(self, /)\n |      +self\n |  \n |  __pow__(self, value, mod=None, /)\n |      Return pow(self, value, mod).\n |  \n |  __radd__(self, value, /)\n |      Return value+self.\n |  \n |  __rdivmod__(self, value, /)\n |      Return divmod(value, self).\n |  \n |  __repr__(self, /)\n |      Return repr(self).\n |  \n |  __rfloordiv__(self, value, /)\n |      Return value//self.\n |  \n |  __rmod__(self, value, /)\n |      Return value%self.\n |  \n |  __rmul__(self, value, /)\n |      Return value*self.\n |  \n |  __round__(...)\n |      Return the Integral closest to x, rounding half toward even.\n |      When an argument is passed, work like built-in round(x, ndigits).\n |  \n |  __rpow__(self, value, mod=None, /)\n |      Return pow(value, self, mod).\n |  \n |  __rsub__(self, value, /)\n |      Return value-self.\n |  \n |  __rtruediv__(self, value, /)\n |      Return value/self.\n |  \n |  __setformat__(...) from builtins.type\n |      float.__setformat__(typestr, fmt) -> None\n |      \n |      You probably don't want to use this function.  It exists mainly to be\n |      used in Python's test suite.\n |      \n |      typestr must be 'double' or 'float'.  fmt must be one of 'unknown',\n |      'IEEE, big-endian' or 'IEEE, little-endian', and in addition can only be\n |      one of the latter two if it appears to match the underlying C reality.\n |      \n |      Override the automatic determination of C-level floating point type.\n |      This affects how floats are converted to and from binary strings.\n |  \n |  __str__(self, /)\n |      Return str(self).\n |  \n |  __sub__(self, value, /)\n |      Return self-value.\n |  \n |  __truediv__(self, value, /)\n |      Return self/value.\n |  \n |  __trunc__(...)\n |      Return the Integral closest to x between 0 and x.\n |  \n |  as_integer_ratio(...)\n |      float.as_integer_ratio() -> (int, int)\n |      \n |      Return a pair of integers, whose ratio is exactly equal to the original\n |      float and with a positive denominator.\n |      Raise OverflowError on infinities and a ValueError on NaNs.\n |      \n |      >>> (10.0).as_integer_ratio()\n |      (10, 1)\n |      >>> (0.0).as_integer_ratio()\n |      (0, 1)\n |      >>> (-.25).as_integer_ratio()\n |      (-1, 4)\n |  \n |  conjugate(...)\n |      Return self, the complex conjugate of any float.\n |  \n |  fromhex(...) from builtins.type\n |      float.fromhex(string) -> float\n |      \n |      Create a floating-point number from a hexadecimal string.\n |      >>> float.fromhex('0x1.ffffp10')\n |      2047.984375\n |      >>> float.fromhex('-0x1p-1074')\n |      -5e-324\n |  \n |  hex(...)\n |      float.hex() -> string\n |      \n |      Return a hexadecimal representation of a floating-point number.\n |      >>> (-0.1).hex()\n |      '-0x1.999999999999ap-4'\n |      >>> 3.14159.hex()\n |      '0x1.921f9f01b866ep+1'\n |  \n |  is_integer(...)\n |      Return True if the float is an integer.\n |  \n |  ----------------------------------------------------------------------\n |  Data descriptors defined here:\n |  \n |  imag\n |      the imaginary part of a complex number\n |  \n |  real\n |      the real part of a complex number\n\n"
     ]
    }
   ],
   "source": [
    "import numpy as np\n",
    "help(np.random.randn())"
   ]
  },
  {
   "cell_type": "code",
   "execution_count": 4,
   "metadata": {},
   "outputs": [
    {
     "name": "stdout",
     "output_type": "stream",
     "text": [
      "Help on built-in function randn:\n\nrandn(...) method of mtrand.RandomState instance\n    randn(d0, d1, ..., dn)\n    \n    Return a sample (or samples) from the \"standard normal\" distribution.\n    \n    If positive, int_like or int-convertible arguments are provided,\n    `randn` generates an array of shape ``(d0, d1, ..., dn)``, filled\n    with random floats sampled from a univariate \"normal\" (Gaussian)\n    distribution of mean 0 and variance 1 (if any of the :math:`d_i` are\n    floats, they are first converted to integers by truncation). A single\n    float randomly sampled from the distribution is returned if no\n    argument is provided.\n    \n    This is a convenience function.  If you want an interface that takes a\n    tuple as the first argument, use `numpy.random.standard_normal` instead.\n    \n    Parameters\n    ----------\n    d0, d1, ..., dn : int, optional\n        The dimensions of the returned array, should be all positive.\n        If no argument is given a single Python float is returned.\n    \n    Returns\n    -------\n    Z : ndarray or float\n        A ``(d0, d1, ..., dn)``-shaped array of floating-point samples from\n        the standard normal distribution, or a single such float if\n        no parameters were supplied.\n    \n    See Also\n    --------\n    random.standard_normal : Similar, but takes a tuple as its argument.\n    \n    Notes\n    -----\n    For random samples from :math:`N(\\mu, \\sigma^2)`, use:\n    \n    ``sigma * np.random.randn(...) + mu``\n    \n    Examples\n    --------\n    >>> np.random.randn()\n    2.1923875335537315 #random\n    \n    Two-by-four array of samples from N(3, 6.25):\n    \n    >>> 2.5 * np.random.randn(2, 4) + 3\n    array([[-4.49401501,  4.00950034, -1.81814867,  7.29718677],  #random\n           [ 0.39924804,  4.68456316,  4.99394529,  4.84057254]]) #random\n\n"
     ]
    }
   ],
   "source": [
    "help(np.random.randn)"
   ]
  },
  {
   "cell_type": "code",
   "execution_count": 8,
   "metadata": {},
   "outputs": [
    {
     "name": "stdout",
     "output_type": "stream",
     "text": [
      "0\n1\n4\n9\n16\n"
     ]
    }
   ],
   "source": [
    "def sqrange(n):\n",
    "    if n>=1 and n<=20:\n",
    "        for i in range(n):\n",
    "            print (i*i)\n",
    "sqrange(5)"
   ]
  },
  {
   "cell_type": "code",
   "execution_count": 3,
   "metadata": {},
   "outputs": [],
   "source": [
    "def is_leap(year):\n",
    "    leap = False\n",
    "    if year % 400 == 0:\n",
    "        leap = True\n",
    "    if year % 100 == 0:\n",
    "        leap = False\n",
    "    if year % 4 == 0:\n",
    "        leap = True\n",
    "    else:\n",
    "        return False\n",
    "    \n",
    "    return leap"
   ]
  },
  {
   "cell_type": "code",
   "execution_count": 5,
   "metadata": {},
   "outputs": [
    {
     "data": {
      "text/plain": [
       "False"
      ]
     },
     "execution_count": 5,
     "metadata": {},
     "output_type": "execute_result"
    }
   ],
   "source": [
    "is_leap(210)"
   ]
  },
  {
   "cell_type": "code",
   "execution_count": null,
   "metadata": {},
   "outputs": [],
   "source": [
    ""
   ]
  }
 ],
 "metadata": {
  "kernelspec": {
   "display_name": "Python 2",
   "language": "python",
   "name": "python2"
  },
  "language_info": {
   "codemirror_mode": {
    "name": "ipython",
    "version": 2.0
   },
   "file_extension": ".py",
   "mimetype": "text/x-python",
   "name": "python",
   "nbconvert_exporter": "python",
   "pygments_lexer": "ipython2",
   "version": "2.7.6"
  }
 },
 "nbformat": 4,
 "nbformat_minor": 0
}
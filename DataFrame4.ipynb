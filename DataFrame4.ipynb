{
 "cells": [
  {
   "cell_type": "code",
   "execution_count": 1,
   "metadata": {},
   "outputs": [
    {
     "name": "stdout",
     "output_type": "stream",
     "text": [
      "0,3,5,7,ABCD0,2017-05-15\n",
      "1,4,6,8,ABCD1,2017-05-16\n",
      "2,5,7,9,ABCD2,2017-05-17\n",
      "3,6,8,10,ABCD3,2017-05-18\n",
      "4,7,9,11,ABCD4,2017-05-19\n",
      "5,8,10,12,ABCD5,2017-05-20\n",
      "6,9,11,13,ABCD6,2017-05-21\n",
      "7,10,12,14,ABCD0,2017-05-22\n",
      "8,11,13,15,ABCD1,2017-05-23\n",
      "9,12,14,16,ABCD2,2017-05-24\n",
      "10,13,15,17,ABCD3,2017-05-25\n",
      "11,14,16,18,ABCD4,2017-05-15\n",
      "12,15,17,19,ABCD5,2017-05-16\n",
      "13,16,18,20,ABCD6,2017-05-17\n",
      "14,17,19,21,ABCD0,2017-05-18\n",
      "15,18,20,22,ABCD1,2017-05-19\n",
      "16,19,21,23,ABCD2,2017-05-20\n",
      "17,20,22,24,ABCD3,2017-05-21\n",
      "18,21,23,25,ABCD4,2017-05-22\n",
      "19,22,24,26,ABCD5,2017-05-23\n"
     ]
    }
   ],
   "source": [
    "from datetime import date, timedelta\n",
    "d1 = date(2017, 5, 15) \n",
    "for i in range(20):\n",
    "    print ( \"{},{},{},{},ABCD{},{}\".format(i,i+3,i+5,i+7,i%7,d1 + timedelta(days=i%11)))"
   ]
  },
  {
   "cell_type": "code",
   "execution_count": null,
   "metadata": {},
   "outputs": [],
   "source": [
    "import pandas as pd\n",
    "#No Header Specified.\n",
    "test2 = pd.read_csv('TEST2.csv', header=None)\n",
    "test2\n",
    "#Use a different separator for csv files. names = implied the name of the columns.\n",
    "test3 = pd.read_csv('TEST3.csv', header=None,sep ='|', names = ['a1','a2', 'a3','a4', 'a5'],parse_dates=True)\n",
    "test3\n",
    "#restrict to fisrt 10 rows after skipping 3 rows.additional infor from verbose.\n",
    "test4 = pd.read_csv('TEST2.csv', header=None, nrows=10,skiprows =3,verbose=True)\n",
    "test4"
   ]
  },
  {
   "cell_type": "code",
   "execution_count": 80,
   "metadata": {},
   "outputs": [
    {
     "name": "stdout",
     "output_type": "stream",
     "text": [
      "0,ABCD3\n",
      "1,ABCD4\n",
      "2,ABCD5\n",
      "3,ABCD6\n",
      "4,ABCD0\n",
      "5,ABCD1\n",
      "6,ABCD2\n",
      "7,ABCD3\n",
      "8,ABCD4\n",
      "9,ABCD5\n",
      "ABCD3\n",
      "ABCD4\n",
      "ABCD5\n",
      "ABCD6\n",
      "ABCD0\n",
      "ABCD1\n",
      "ABCD2\n",
      "ABCD3\n",
      "ABCD4\n",
      "ABCD5\n"
     ]
    }
   ],
   "source": [
    "#write to file using to_csv \n",
    "import sys\n",
    "test4[4].to_csv('test4_output.csv')\n",
    "#write to standard output\n",
    "test4[4].to_csv(sys.stdout)\n",
    "\n",
    "#No index, No headers\n",
    "test4[4].to_csv(sys.stdout, index=False, header=False)"
   ]
  },
  {
   "cell_type": "code",
   "execution_count": 3,
   "metadata": {},
   "outputs": [
    {
     "data": {
      "text/plain": [
       "Timestamp('2017-03-31 00:00:00', freq='D')"
      ]
     },
     "execution_count": 3,
     "metadata": {},
     "output_type": "execute_result"
    }
   ],
   "source": [
    "#Get 89th day of the year.\n",
    "pd.date_range('1/1/2017',periods=365)[89]"
   ]
  },
  {
   "cell_type": "code",
   "execution_count": 9,
   "metadata": {},
   "outputs": [
    {
     "data": {
      "text/plain": [
       "'{\"0\":{\"0\":3,\"1\":4,\"2\":5,\"3\":6,\"4\":7,\"5\":8,\"6\":9,\"7\":10,\"8\":11,\"9\":12},\"1\":{\"0\":6,\"1\":7,\"2\":8,\"3\":9,\"4\":10,\"5\":11,\"6\":12,\"7\":13,\"8\":14,\"9\":15},\"2\":{\"0\":8,\"1\":9,\"2\":10,\"3\":11,\"4\":12,\"5\":13,\"6\":14,\"7\":15,\"8\":16,\"9\":17},\"3\":{\"0\":10,\"1\":11,\"2\":12,\"3\":13,\"4\":14,\"5\":15,\"6\":16,\"7\":17,\"8\":18,\"9\":19},\"4\":{\"0\":\"ABCD3\",\"1\":\"ABCD4\",\"2\":\"ABCD5\",\"3\":\"ABCD6\",\"4\":\"ABCD0\",\"5\":\"ABCD1\",\"6\":\"ABCD2\",\"7\":\"ABCD3\",\"8\":\"ABCD4\",\"9\":\"ABCD5\"},\"5\":{\"0\":\"2017-05-18\",\"1\":\"2017-05-19\",\"2\":\"2017-05-20\",\"3\":\"2017-05-21\",\"4\":\"2017-05-22\",\"5\":\"2017-05-23\",\"6\":\"2017-05-24\",\"7\":\"2017-05-25\",\"8\":\"2017-05-15\",\"9\":\"2017-05-16\"}}'"
      ]
     },
     "execution_count": 9,
     "metadata": {},
     "output_type": "execute_result"
    }
   ],
   "source": [
    "obj = \"\"\"\n",
    "{\"name\": \"Wes\",\n",
    " \"places_lived\": [\"United States\", \"Spain\", \"Germany\"],\n",
    " \"pet\": null,\n",
    " \"siblings\": [{\"name\": \"Scott\", \"age\": 29, \"pets\": [\"Zeus\", \"Zuko\"]},\n",
    "              {\"name\": \"Katie\", \"age\": 38,\n",
    "               \"pets\": [\"Sixes\", \"Stache\", \"Cisco\"]}]\n",
    "}\n",
    "\"\"\"\n",
    "import json\n",
    "result = json.loads(obj)\n",
    "result\n",
    "\n",
    "#convert the test4 Dataframe to Json object\n",
    "test4.to_json()"
   ]
  },
  {
   "cell_type": "markdown",
   "metadata": {
    "collapsed": true
   },
   "source": [
    "#### "
   ]
  },
  {
   "cell_type": "code",
   "execution_count": 58,
   "metadata": {},
   "outputs": [],
   "source": [
    "#Read from Excel file\n",
    "pd.read_excel('AllIndiaHospitalList.xls')"
   ]
  },
  {
   "cell_type": "code",
   "execution_count": null,
   "metadata": {},
   "outputs": [],
   "source": []
  },
  {
   "cell_type": "code",
   "execution_count": 25,
   "metadata": {},
   "outputs": [
    {
     "data": {
      "text/plain": [
       "'https://github.com/pandas-dev/pandas/commit/6dcf2ed2706b00020f6a3be5530ff8dc121ba989\\r\\n\\r\\ncausing this tests to fail; \\r\\n\\r\\nseems some issues on the BQ side\\r\\nsee https://github.com/pydata/pandas-gbq/pull/40'"
      ]
     },
     "execution_count": 25,
     "metadata": {},
     "output_type": "execute_result"
    }
   ],
   "source": [
    "#Get json object from httpresponse\n",
    "import requests\n",
    "httpresponse = requests.get('https://api.github.com/repos/pandas-dev/pandas/issues')\n",
    "httpresponse.json()[0]['body']"
   ]
  },
  {
   "cell_type": "code",
   "execution_count": null,
   "metadata": {},
   "outputs": [],
   "source": [
    "#read Oracle database table contents into datFrame \n",
    "import cx_Oracle\n",
    "conn = cx_Oracle.connect('hr/hr@localhost:1521/XE') #userid/password@hostname:port/Servicename\n",
    "c = conn.cursor()\n",
    "c.execute(u'select * from employees')  #Employees table\n",
    "rows = c.fetchall()\n",
    "employees = pd.DataFrame(rows, columns=[x[0] for x in c.description])\n",
    "employees.set_index('EMPLOYEE_ID')"
   ]
  },
  {
   "cell_type": "code",
   "execution_count": null,
   "metadata": {},
   "outputs": [
    {
     "data": {
      "text/plain": [
       "{'a', 'b', 'c', 'd'}"
      ]
     },
     "execution_count": 2,
     "metadata": {},
     "output_type": "execute_result"
    }
   ],
   "source": [
    "set (['b','a','d', 'c', 'b'])"
   ]
  },
  {
   "cell_type": "code",
   "execution_count": null,
   "metadata": {
    "collapsed": true
   },
   "outputs": [],
   "source": []
  },
  {
   "cell_type": "code",
   "execution_count": null,
   "metadata": {
    "collapsed": true
   },
   "outputs": [],
   "source": []
  },
  {
   "cell_type": "code",
   "execution_count": null,
   "metadata": {
    "collapsed": true
   },
   "outputs": [],
   "source": []
  }
 ],
 "metadata": {
  "kernelspec": {
   "display_name": "Python 3",
   "language": "python",
   "name": "python3"
  },
  "language_info": {
   "codemirror_mode": {
    "name": "ipython",
    "version": 3
   },
   "file_extension": ".py",
   "mimetype": "text/x-python",
   "name": "python",
   "nbconvert_exporter": "python",
   "pygments_lexer": "ipython3",
   "version": "3.4.0"
  }
 },
 "nbformat": 4,
 "nbformat_minor": 1
}

{
 "cells": [
  {
   "cell_type": "code",
   "execution_count": null,
   "metadata": {},
   "outputs": [],
   "source": [
    "from math import asin,sqrt, pi\n",
    "AB = int(input())\n",
    "BC = int(input())\n",
    "\n",
    "try :\n",
    " print (  round(180/pi * asin ( ( sqrt( AB ** 2 + BC ** 2 )) / ( 2 * BC) )) )\n",
    "except:\n",
    " print(\"Math Error\")\n"
   ]
  },
  {
   "cell_type": "code",
   "execution_count": null,
   "metadata": {
    "collapsed": true
   },
   "outputs": [],
   "source": [
    "10"
   ]
  },
  {
   "cell_type": "markdown",
   "metadata": {},
   "source": [
    "# 10"
   ]
  },
  {
   "cell_type": "code",
   "execution_count": 8,
   "metadata": {},
   "outputs": [
    {
     "data": {
      "image/png": "[encoded data removed]",
      "text/plain": [
       "<matplotlib.figure.Figure at 0x78715f8>"
      ]
     },
     "metadata": {},
     "output_type": "display_data"
    }
   ],
   "source": [
    "import numpy as np\n",
    "import matplotlib.pyplot as plt\n",
    "\n",
    "def pdf(X, mu, sigma):\n",
    "  a = 1. / (sigma * np.sqrt(2. * np.pi))\n",
    "  b = -1. / (2. * sigma ** 2)\n",
    "  return a * np.exp(b * (X - mu) ** 2)\n",
    "\n",
    "X = np.linspace(-6, 6, 1000)\n",
    "\n",
    "for i in range(5):\n",
    "  samples = np.random.standard_normal(50)\n",
    "  mu, sigma = np.mean(samples), np.std(samples)\n",
    "  plt.plot(X, pdf(X, mu, sigma), color = '0.9')\n",
    "\n",
    "#plt.plot(X, pdf(X, 0., 1.), color = 'k')\n",
    "plt.show()"
   ]
  },
  {
   "cell_type": "code",
   "execution_count": 16,
   "metadata": {},
   "outputs": [
    {
     "data": {
      "text/plain": [
       "array([ 0.5       ,  0.8660254 ,  1.        ,  0.70710678])"
      ]
     },
     "execution_count": 16,
     "metadata": {},
     "output_type": "execute_result"
    }
   ],
   "source": [
    "x = np.array([ 30.0, 60.0, 90.0 , 45.0])\n",
    "np.sin(x*np.pi/180)"
   ]
  },
  {
   "cell_type": "code",
   "execution_count": 20,
   "metadata": {},
   "outputs": [
    {
     "data": {
      "image/png": "[encoded data removed]",
      "text/plain": [
       "<matplotlib.figure.Figure at 0x8a98da0>"
      ]
     },
     "metadata": {},
     "output_type": "display_data"
    }
   ],
   "source": [
    "import numpy as np\n",
    "import matplotlib.pyplot as plt\n",
    "\n",
    "X = np.linspace(-6, 6, 1024)\n",
    "Y = np.sinc(X)\n",
    "\n",
    "plt.plot(X, Y,\n",
    "  linewidth = 3.,\n",
    "  color = 'k',\n",
    "  markersize = 9,\n",
    "  markeredgewidth = 1.5,\n",
    "  markerfacecolor = '.75',\n",
    "  markeredgecolor = 'k',\n",
    "  marker = 'o',\n",
    "  markevery = 100)\n",
    "plt.show()"
   ]
  },
  {
   "cell_type": "code",
   "execution_count": 26,
   "metadata": {},
   "outputs": [
    {
     "name": "stdout",
     "output_type": "stream",
     "text": [
      "1 2\n",
      "3 4\n",
      "(1, 3) (1, 4) (2, 3) (2, 4)\n"
     ]
    }
   ],
   "source": [
    "from itertools import product\n",
    "\n",
    "A = map(int, input().split())\n",
    "B = map(int, input().split())\n",
    "print ( *product(A,B) )\n",
    "   "
   ]
  },
  {
   "cell_type": "code",
   "execution_count": 33,
   "metadata": {},
   "outputs": [
    {
     "name": "stdout",
     "output_type": "stream",
     "text": [
      "[1, 3] [4, 5]\n",
      "[[1, 3], [4, 5]]\n"
     ]
    }
   ],
   "source": [
    "a = [ [1, 3],[ 4, 5 ] ]\n",
    "a\n",
    "print (*a)\n",
    "print (a)"
   ]
  },
  {
   "cell_type": "code",
   "execution_count": 34,
   "metadata": {
    "collapsed": true
   },
   "outputs": [],
   "source": [
    "#https://stackoverflow.com/questions/2921847/what-does-the-star-operator-mean"
   ]
  },
  {
   "cell_type": "code",
   "execution_count": null,
   "metadata": {
    "collapsed": true
   },
   "outputs": [],
   "source": []
  }
 ],
 "metadata": {
  "kernelspec": {
   "display_name": "Python 3",
   "language": "python",
   "name": "python3"
  },
  "language_info": {
   "codemirror_mode": {
    "name": "ipython",
    "version": 3
   },
   "file_extension": ".py",
   "mimetype": "text/x-python",
   "name": "python",
   "nbconvert_exporter": "python",
   "pygments_lexer": "ipython3",
   "version": "3.4.0"
  }
 },
 "nbformat": 4,
 "nbformat_minor": 2
}
